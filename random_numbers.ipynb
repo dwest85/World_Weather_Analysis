{
 "cells": [
  {
   "cell_type": "code",
   "execution_count": 1,
   "id": "e5a18a3c",
   "metadata": {},
   "outputs": [],
   "source": [
    "# Import the random module.\n",
    "import random\n",
    "import numpy as np\n",
    "import timeit"
   ]
  },
  {
   "cell_type": "code",
   "execution_count": 2,
   "id": "6fe7d697",
   "metadata": {},
   "outputs": [
    {
     "data": {
      "text/plain": [
       "0.2004356079611359"
      ]
     },
     "execution_count": 2,
     "metadata": {},
     "output_type": "execute_result"
    }
   ],
   "source": [
    "random.random()"
   ]
  },
  {
   "cell_type": "code",
   "execution_count": 3,
   "id": "504901ae",
   "metadata": {},
   "outputs": [
    {
     "data": {
      "text/plain": [
       "61.88687651288043"
      ]
     },
     "execution_count": 3,
     "metadata": {},
     "output_type": "execute_result"
    }
   ],
   "source": [
    "random_number = random.randint(-90, 89) + random.random()\n",
    "random_number"
   ]
  },
  {
   "cell_type": "code",
   "execution_count": 4,
   "id": "7f9aa633",
   "metadata": {},
   "outputs": [],
   "source": [
    "x = 1\n",
    "latitudes = []\n",
    "while x < 11:\n",
    "    random_lat = random.randint(-90, 89) + random.random()\n",
    "    latitudes.append(random_lat)\n",
    "    x += 1"
   ]
  },
  {
   "cell_type": "code",
   "execution_count": 5,
   "id": "67201796",
   "metadata": {},
   "outputs": [
    {
     "data": {
      "text/plain": [
       "[-76.7599081756552,\n",
       " 24.646474632910472,\n",
       " 57.84778827374419,\n",
       " 74.1905735396218,\n",
       " 31.15401654425059,\n",
       " 55.07158682970979,\n",
       " -80.6809634153339,\n",
       " -25.711001447491626,\n",
       " -32.87463061563202,\n",
       " -88.27926642077942]"
      ]
     },
     "execution_count": 5,
     "metadata": {},
     "output_type": "execute_result"
    }
   ],
   "source": [
    "latitudes"
   ]
  },
  {
   "cell_type": "code",
   "execution_count": 7,
   "id": "9174ea16",
   "metadata": {},
   "outputs": [],
   "source": [
    "x = 1\n",
    "longitudes = []\n",
    "while x < 11:\n",
    "    random_long = random.randint(-180, 180) + random.random()\n",
    "    longitudes.append(random_long)\n",
    "    x += 1"
   ]
  },
  {
   "cell_type": "code",
   "execution_count": 8,
   "id": "b80a282d",
   "metadata": {},
   "outputs": [
    {
     "data": {
      "text/plain": [
       "[5.5905167513810055,\n",
       " 7.585053766023192,\n",
       " -162.22154074194185,\n",
       " 117.45798956029552,\n",
       " 172.8362884324155,\n",
       " 123.26862571737814,\n",
       " 48.553360091570276,\n",
       " -91.81383735156626,\n",
       " 180.48531818400338,\n",
       " 141.06542310380263]"
      ]
     },
     "execution_count": 8,
     "metadata": {},
     "output_type": "execute_result"
    }
   ],
   "source": [
    "longitudes"
   ]
  },
  {
   "cell_type": "code",
   "execution_count": 9,
   "id": "937cce47",
   "metadata": {},
   "outputs": [
    {
     "data": {
      "text/plain": [
       "72"
      ]
     },
     "execution_count": 9,
     "metadata": {},
     "output_type": "execute_result"
    }
   ],
   "source": [
    "random.randrange(-90, 90, step=3)"
   ]
  },
  {
   "cell_type": "code",
   "execution_count": 10,
   "id": "b69289cf",
   "metadata": {},
   "outputs": [
    {
     "data": {
      "text/plain": [
       "30.78475989790411"
      ]
     },
     "execution_count": 10,
     "metadata": {},
     "output_type": "execute_result"
    }
   ],
   "source": [
    "random.uniform(-90, 90)"
   ]
  },
  {
   "cell_type": "code",
   "execution_count": 11,
   "id": "82f25c28",
   "metadata": {},
   "outputs": [
    {
     "data": {
      "text/plain": [
       "68.42853003841306"
      ]
     },
     "execution_count": 11,
     "metadata": {},
     "output_type": "execute_result"
    }
   ],
   "source": [
    "random.randint(-90, 90) + random.random()"
   ]
  },
  {
   "cell_type": "code",
   "execution_count": 12,
   "id": "172325dc",
   "metadata": {},
   "outputs": [
    {
     "data": {
      "text/plain": [
       "-43.55968404494034"
      ]
     },
     "execution_count": 12,
     "metadata": {},
     "output_type": "execute_result"
    }
   ],
   "source": [
    "np.random.uniform(-90.000, 90.000)"
   ]
  },
  {
   "cell_type": "code",
   "execution_count": 13,
   "id": "bf322f37",
   "metadata": {},
   "outputs": [
    {
     "data": {
      "text/plain": [
       "array([-31.15211676,  25.64478464,  74.25820769, -68.2378379 ,\n",
       "       -73.5298342 ,  -0.93502836,  83.67544383,  49.27292924,\n",
       "        81.62817528,  24.63564016, -75.75538991,  44.76484634,\n",
       "       -35.51901737, -35.64551748, -35.20290381,  26.16999303,\n",
       "        59.14733019, -69.20207454,  -6.0798254 ,  -0.30908974,\n",
       "        86.08050455,  36.60624288,  60.33118975, -15.86960512,\n",
       "       -66.20066382, -80.25969587,  -8.17424499, -76.01140398,\n",
       "       -37.28517289, -50.417666  ,  62.45294658,  18.40689907,\n",
       "        15.50761901,  61.01762059, -89.09942805,   1.65336529,\n",
       "        74.65801857,  46.47650129,   5.43518005,  28.59993732,\n",
       "       -85.69862197,  60.30646335,  82.4194527 ,  26.26497422,\n",
       "        37.49078839, -38.99772789, -14.41173224, -17.15349357,\n",
       "        12.75235756,  66.48079788])"
      ]
     },
     "execution_count": 13,
     "metadata": {},
     "output_type": "execute_result"
    }
   ],
   "source": [
    "#generating more than one floating-point number\n",
    "np.random.uniform(-90.000, 90.000, size=50)"
   ]
  },
  {
   "cell_type": "code",
   "execution_count": 14,
   "id": "4f0af429",
   "metadata": {},
   "outputs": [
    {
     "name": "stdout",
     "output_type": "stream",
     "text": [
      "12.2 µs ± 16.8 ns per loop (mean ± std. dev. of 7 runs, 100000 loops each)\n"
     ]
    }
   ],
   "source": [
    "%timeit np.random.uniform(-90.000, 90.000, size=1500)"
   ]
  },
  {
   "cell_type": "code",
   "execution_count": 15,
   "id": "d097ec97",
   "metadata": {},
   "outputs": [
    {
     "name": "stdout",
     "output_type": "stream",
     "text": [
      "1.34 ms ± 3.54 µs per loop (mean ± std. dev. of 7 runs, 1000 loops each)\n"
     ]
    }
   ],
   "source": [
    "def latitudes(size):\n",
    "    latitudes = []\n",
    "    x = 0\n",
    "    while x < (size):\n",
    "        random_lat = random.randint(-90, 90) + random.random()\n",
    "        latitudes.append(random_lat)\n",
    "        x += 1\n",
    "    return latitudes\n",
    "# Call the function with 1500.\n",
    "%timeit latitudes(1500)"
   ]
  },
  {
   "cell_type": "code",
   "execution_count": null,
   "id": "fb471925",
   "metadata": {},
   "outputs": [],
   "source": []
  }
 ],
 "metadata": {
  "kernelspec": {
   "display_name": "Python 3",
   "language": "python",
   "name": "python3"
  },
  "language_info": {
   "codemirror_mode": {
    "name": "ipython",
    "version": 3
   },
   "file_extension": ".py",
   "mimetype": "text/x-python",
   "name": "python",
   "nbconvert_exporter": "python",
   "pygments_lexer": "ipython3",
   "version": "3.8.8"
  }
 },
 "nbformat": 4,
 "nbformat_minor": 5
}
