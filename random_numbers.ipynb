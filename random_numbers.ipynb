{
 "cells": [
  {
   "cell_type": "code",
   "execution_count": 2,
   "id": "e5a18a3c",
   "metadata": {},
   "outputs": [],
   "source": [
    "# Import the random module.\n",
    "import random\n",
    "import numpy as np\n",
    "import timeit"
   ]
  },
  {
   "cell_type": "code",
   "execution_count": 3,
   "id": "6fe7d697",
   "metadata": {},
   "outputs": [
    {
     "data": {
      "text/plain": [
       "-71"
      ]
     },
     "execution_count": 3,
     "metadata": {},
     "output_type": "execute_result"
    }
   ],
   "source": [
    "random.randint(-90, 90)"
   ]
  },
  {
   "cell_type": "code",
   "execution_count": 4,
   "id": "ddb33f4c",
   "metadata": {},
   "outputs": [
    {
     "data": {
      "text/plain": [
       "0.5906436871070689"
      ]
     },
     "execution_count": 4,
     "metadata": {},
     "output_type": "execute_result"
    }
   ],
   "source": [
    "random.random()"
   ]
  },
  {
   "cell_type": "code",
   "execution_count": 5,
   "id": "504901ae",
   "metadata": {},
   "outputs": [
    {
     "data": {
      "text/plain": [
       "79.26795896126734"
      ]
     },
     "execution_count": 5,
     "metadata": {},
     "output_type": "execute_result"
    }
   ],
   "source": [
    "random_number = random.randint(-90, 89) + random.random()\n",
    "random_number"
   ]
  },
  {
   "cell_type": "code",
   "execution_count": 6,
   "id": "7f9aa633",
   "metadata": {},
   "outputs": [],
   "source": [
    "x = 1\n",
    "latitudes = []\n",
    "while x < 11:\n",
    "    random_lat = random.randint(-90, 89) + random.random()\n",
    "    latitudes.append(random_lat)\n",
    "    x += 1"
   ]
  },
  {
   "cell_type": "code",
   "execution_count": 7,
   "id": "67201796",
   "metadata": {},
   "outputs": [
    {
     "data": {
      "text/plain": [
       "[-62.01408908219599,\n",
       " 82.39657188191396,\n",
       " 60.560308891348875,\n",
       " 58.16701383448533,\n",
       " -2.7196730568841554,\n",
       " 56.71481836585696,\n",
       " -30.6377192047121,\n",
       " 71.94028348682507,\n",
       " -19.924173457423546,\n",
       " 55.863576895216035]"
      ]
     },
     "execution_count": 7,
     "metadata": {},
     "output_type": "execute_result"
    }
   ],
   "source": [
    "latitudes"
   ]
  },
  {
   "cell_type": "code",
   "execution_count": 8,
   "id": "9174ea16",
   "metadata": {},
   "outputs": [],
   "source": [
    "x = 1\n",
    "longitudes = []\n",
    "while x < 11:\n",
    "    random_long = random.randint(-180, 180) + random.random()\n",
    "    longitudes.append(random_long)\n",
    "    x += 1"
   ]
  },
  {
   "cell_type": "code",
   "execution_count": 9,
   "id": "b80a282d",
   "metadata": {},
   "outputs": [
    {
     "data": {
      "text/plain": [
       "[-0.4254439628787162,\n",
       " -159.59791689765467,\n",
       " 55.469694053799856,\n",
       " 168.1764917031039,\n",
       " 23.56330894296999,\n",
       " -131.92596077953095,\n",
       " -129.83871037851836,\n",
       " 151.1284560947987,\n",
       " 20.17860235469582,\n",
       " -56.76156375579944]"
      ]
     },
     "execution_count": 9,
     "metadata": {},
     "output_type": "execute_result"
    }
   ],
   "source": [
    "longitudes"
   ]
  },
  {
   "cell_type": "code",
   "execution_count": 14,
   "id": "937cce47",
   "metadata": {},
   "outputs": [
    {
     "data": {
      "text/plain": [
       "-82"
      ]
     },
     "execution_count": 14,
     "metadata": {},
     "output_type": "execute_result"
    }
   ],
   "source": [
    "random.randrange(-90, 90, step=1)"
   ]
  },
  {
   "cell_type": "code",
   "execution_count": 15,
   "id": "2d046009",
   "metadata": {},
   "outputs": [
    {
     "data": {
      "text/plain": [
       "45"
      ]
     },
     "execution_count": 15,
     "metadata": {},
     "output_type": "execute_result"
    }
   ],
   "source": [
    "random.randrange(-90, 90, step=3)"
   ]
  },
  {
   "cell_type": "code",
   "execution_count": 16,
   "id": "b69289cf",
   "metadata": {},
   "outputs": [
    {
     "data": {
      "text/plain": [
       "-11.059104373362317"
      ]
     },
     "execution_count": 16,
     "metadata": {},
     "output_type": "execute_result"
    }
   ],
   "source": [
    "random.uniform(-90, 90)"
   ]
  },
  {
   "cell_type": "code",
   "execution_count": 17,
   "id": "82f25c28",
   "metadata": {},
   "outputs": [
    {
     "data": {
      "text/plain": [
       "-32.656389855928104"
      ]
     },
     "execution_count": 17,
     "metadata": {},
     "output_type": "execute_result"
    }
   ],
   "source": [
    "random.randint(-90, 90) + random.random()"
   ]
  },
  {
   "cell_type": "code",
   "execution_count": 18,
   "id": "172325dc",
   "metadata": {},
   "outputs": [
    {
     "data": {
      "text/plain": [
       "28.2449767697278"
      ]
     },
     "execution_count": 18,
     "metadata": {},
     "output_type": "execute_result"
    }
   ],
   "source": [
    "np.random.uniform(-90.000, 90.000)"
   ]
  },
  {
   "cell_type": "code",
   "execution_count": 19,
   "id": "bf322f37",
   "metadata": {},
   "outputs": [
    {
     "data": {
      "text/plain": [
       "array([ 36.57975546,  21.67717211,  11.25283151,  19.0211744 ,\n",
       "       -46.05061835,  -1.482128  , -52.97317902, -30.13072895,\n",
       "        75.08996805,  35.43046619,  60.90341939,  23.24565901,\n",
       "        47.27615819,  42.21000074,  88.77157806,  53.16939696,\n",
       "       -48.28806061, -55.33926663,  86.39716122, -56.55314999,\n",
       "       -33.95834963, -74.50245527,   2.23464774, -29.55846796,\n",
       "       -60.96401617, -14.24386326,  77.12228975,   1.8256513 ,\n",
       "        19.22391378, -65.24850201, -78.37333102,  26.02707007,\n",
       "        80.07462179,  54.23031491,  65.51541264,  50.72570206,\n",
       "       -20.44094145,   5.25747071,  65.29814828, -54.83337518,\n",
       "        56.66859189,  73.94143233, -63.19387076,  24.92145285,\n",
       "        77.58015828, -73.61286437, -54.94858302, -60.43360102,\n",
       "       -29.93674085,  51.09048619])"
      ]
     },
     "execution_count": 19,
     "metadata": {},
     "output_type": "execute_result"
    }
   ],
   "source": [
    "#generating more than one floating-point number\n",
    "np.random.uniform(-90.000, 90.000, size=50)"
   ]
  },
  {
   "cell_type": "code",
   "execution_count": 14,
   "id": "4f0af429",
   "metadata": {},
   "outputs": [
    {
     "name": "stdout",
     "output_type": "stream",
     "text": [
      "12.2 µs ± 16.8 ns per loop (mean ± std. dev. of 7 runs, 100000 loops each)\n"
     ]
    }
   ],
   "source": [
    "%timeit np.random.uniform(-90.000, 90.000, size=1500)"
   ]
  },
  {
   "cell_type": "code",
   "execution_count": 15,
   "id": "d097ec97",
   "metadata": {},
   "outputs": [
    {
     "name": "stdout",
     "output_type": "stream",
     "text": [
      "1.34 ms ± 3.54 µs per loop (mean ± std. dev. of 7 runs, 1000 loops each)\n"
     ]
    }
   ],
   "source": [
    "def latitudes(size):\n",
    "    latitudes = []\n",
    "    x = 0\n",
    "    while x < (size):\n",
    "        random_lat = random.randint(-90, 90) + random.random()\n",
    "        latitudes.append(random_lat)\n",
    "        x += 1\n",
    "    return latitudes\n",
    "# Call the function with 1500.\n",
    "%timeit latitudes(1500)"
   ]
  },
  {
   "cell_type": "code",
   "execution_count": null,
   "id": "fb471925",
   "metadata": {},
   "outputs": [],
   "source": []
  }
 ],
 "metadata": {
  "kernelspec": {
   "display_name": "Python 3",
   "language": "python",
   "name": "python3"
  },
  "language_info": {
   "codemirror_mode": {
    "name": "ipython",
    "version": 3
   },
   "file_extension": ".py",
   "mimetype": "text/x-python",
   "name": "python",
   "nbconvert_exporter": "python",
   "pygments_lexer": "ipython3",
   "version": "3.8.8"
  }
 },
 "nbformat": 4,
 "nbformat_minor": 5
}
